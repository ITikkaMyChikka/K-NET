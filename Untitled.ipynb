{
 "cells": [
  {
   "cell_type": "code",
   "execution_count": 1,
   "id": "690c720f",
   "metadata": {},
   "outputs": [],
   "source": [
    "import torch\n",
    "import numpy as np"
   ]
  },
  {
   "cell_type": "code",
   "execution_count": 2,
   "id": "88e3833e",
   "metadata": {},
   "outputs": [],
   "source": [
    "# Dataset Folders\n",
    "date = '2013-01-10'\n",
    "#directory = '../NCLT_DATA/' + date + '/'\n",
    "directory = '/Users/sidhu/Documents/ETH/Semester Project/K-NET/NCLT_DATA/' + date + '/'\n",
    "gpsConsumerGradeFile = 'gps.csv'\n",
    "gpsRTKFile = 'gps_rtk.csv'\n",
    "imuFile = 'ms25.csv'\n",
    "imuEulerFile = 'ms25_euler.csv'\n",
    "groundtruthFile = 'groundtruth.csv'\n",
    "outputFile = '../data/data_' + date + '.mat'"
   ]
  },
  {
   "cell_type": "code",
   "execution_count": 3,
   "id": "59118810",
   "metadata": {},
   "outputs": [],
   "source": [
    "# Ground Truth\n",
    "gt = np.loadtxt(directory + groundtruthFile, delimiter=\",\")\n",
    "# NED (North, East Down)\n",
    "#gtTime = gt[:, 0]\n",
    "gtTime = gt[:, 0] * 1e-6  # Convert to seconds\n",
    "x_GT = gt[:, 1]\n",
    "y_GT = gt[:, 2]"
   ]
  },
  {
   "cell_type": "code",
   "execution_count": 4,
   "id": "c2f2a33c",
   "metadata": {},
   "outputs": [],
   "source": [
    "gpsCG     = np.loadtxt(directory + gpsConsumerGradeFile, delimiter = \",\")\n",
    "gpsCGTime = gpsCG[:, 0] * 1e-6\n",
    "latCG     = gpsCG[:, 3]\n",
    "lngCG     = gpsCG[:, 4]\n",
    "\n",
    "latCG0 = latCG[0]\n",
    "lngCG0 = lngCG[0]\n",
    "\n",
    "dLatCG = latCG - latCG0\n",
    "dLngCG = lngCG - lngCG0\n",
    "\n",
    "r = 6400000 # approx. radius of earth (m)\n",
    "y_GPSCG = r * np.cos(latCG0) * np.sin(dLngCG)\n",
    "x_GPSCG = r * np.sin(dLatCG)"
   ]
  },
  {
   "cell_type": "code",
   "execution_count": 5,
   "id": "f7a81347",
   "metadata": {},
   "outputs": [],
   "source": [
    "imu     = np.loadtxt(directory + imuFile, delimiter = \",\")\n",
    "imuTime = imu[:, 0] * 1e-6\n",
    "# magX    = imu[:, 1]\n",
    "# magY    = imu[:, 2]\n",
    "# magZ    = imu[:, 3]\n",
    "accelX  = imu[:, 4]\n",
    "accelY  = imu[:, 5]\n",
    "accelZ  = imu[:, 6]\n",
    "gyroX   = imu[:, 7]\n",
    "gyroY   = imu[:, 8]\n",
    "gyroZ   = imu[:, 9]"
   ]
  },
  {
   "cell_type": "code",
   "execution_count": 6,
   "id": "1dd3ed15",
   "metadata": {},
   "outputs": [
    {
     "name": "stdout",
     "output_type": "stream",
     "text": [
      "1357847238.335046 1357847237.445438 1357847237.276758\n"
     ]
    }
   ],
   "source": [
    "print(gtTime[0], gpsCGTime[0], imuTime[0])"
   ]
  },
  {
   "cell_type": "code",
   "execution_count": 7,
   "id": "5263fc3e",
   "metadata": {},
   "outputs": [
    {
     "name": "stdout",
     "output_type": "stream",
     "text": [
      "1.0582880973815918 1022.7486979961395\n",
      "0.16867995262145996 1025.8587040901184\n",
      "0.0 1025.9783930778503\n"
     ]
    }
   ],
   "source": [
    "# NORMALIZING THE TIME OF EACH SENSOR MEASUREMENT (SO WE START WITH 0.0)\n",
    "\n",
    "GT_T_norm = gtTime - imuTime[0]\n",
    "GPS_T_norm = gpsCGTime - imuTime[0]\n",
    "IMU_T_norm = imuTime - imuTime[0]\n",
    "print(GT_T_norm[0], GT_T_norm[len(GT_T_norm)-1])\n",
    "print(GPS_T_norm[0], GPS_T_norm[len(GPS_T_norm)-1])\n",
    "print(IMU_T_norm[0], IMU_T_norm[len(IMU_T_norm)-1])"
   ]
  },
  {
   "cell_type": "code",
   "execution_count": 8,
   "id": "2c96236e",
   "metadata": {},
   "outputs": [],
   "source": [
    "# ROUND ALL VALUES TO 10^(-4) to be exact: Meaning the KF Filter will run with frequency delta_t = 0.0001\n",
    "GT_T_rounded = [round(delta_t, 4) for delta_t in GT_T_norm]\n",
    "GPS_T_rounded = [round(delta_t, 4) for delta_t in GPS_T_norm]\n",
    "IMU_T_rounded = [round(delta_t, 4) for delta_t in IMU_T_norm]"
   ]
  },
  {
   "cell_type": "code",
   "execution_count": 9,
   "id": "39feed80",
   "metadata": {},
   "outputs": [
    {
     "name": "stdout",
     "output_type": "stream",
     "text": [
      "7186\n",
      "7186\n",
      "7186\n"
     ]
    }
   ],
   "source": [
    "print(len(GPS_T_rounded))\n",
    "print(len(y_GPSCG))\n",
    "print(len(x_GPSCG))"
   ]
  },
  {
   "cell_type": "code",
   "execution_count": 42,
   "id": "dde3dc8b",
   "metadata": {
    "scrolled": true
   },
   "outputs": [
    {
     "name": "stdout",
     "output_type": "stream",
     "text": [
      "7131 48269 55\n",
      "55455\n",
      "55455\n",
      "55455\n",
      "7186\n",
      "7186\n",
      "7186\n",
      "48324\n",
      "48324\n",
      "48324\n",
      "48324\n"
     ]
    }
   ],
   "source": [
    "# COMBINE GPS AND IMU SENSOR READING INTO 1\n",
    "\n",
    "# COMBINE TIME READINGS\n",
    "Sensor_time = []\n",
    "Sensor_index = []\n",
    "gps_index = 0\n",
    "imu_index = 0\n",
    "c1 = 0\n",
    "c2 = 0\n",
    "c3 = 0\n",
    "\n",
    "while gps_index < len(GPS_T_rounded) or imu_index < len(IMU_T_rounded):\n",
    "    \n",
    "    if gps_index == len(GPS_T_rounded):\n",
    "        \n",
    "        Sensor_time.append(IMU_T_rounded[imu_index])  # Append time of IMU observation\n",
    "        Sensor_index.append(1)  # 1: IMU observation\n",
    "        imu_index += 1\n",
    "        c2 += 1\n",
    "    else:\n",
    "\n",
    "        # If GPS value is next observation\n",
    "        if GPS_T_rounded[gps_index] < IMU_T_rounded[imu_index]:\n",
    "            Sensor_time.append(GPS_T_rounded[gps_index])  # Append time of GPS observation\n",
    "            Sensor_index.append(0)  # 0: GPS observation\n",
    "            gps_index += 1\n",
    "            c1 += 1\n",
    "        # If IMU is next observation\n",
    "        elif IMU_T_rounded[imu_index] < GPS_T_rounded[gps_index]:\n",
    "            Sensor_time.append(IMU_T_rounded[imu_index])  # Append time of IMU observation\n",
    "            Sensor_index.append(1)  # 1: IMU observation\n",
    "            imu_index += 1\n",
    "            c2 += 1\n",
    "        # IF IMU and GPS arrive at the same time\n",
    "        elif IMU_T_rounded[imu_index] == GPS_T_rounded[gps_index]:\n",
    "            Sensor_time.append(IMU_T_rounded[imu_index])\n",
    "            Sensor_index.append(2)  # 2: IMU & GPS observation\n",
    "            imu_index += 1\n",
    "            gps_index += 1\n",
    "            c3 += 1\n",
    "        \n",
    "print(c1, c2, c3)\n",
    "print(c1+c2+c3)\n",
    "print(len(Sensor_time))\n",
    "print(len(Sensor_index))\n",
    "print(len(y_GPSCG))\n",
    "print(len(GPS_T_rounded))\n",
    "print(c1+c3)\n",
    "print(len(accelX))\n",
    "print(len(accelY))\n",
    "print(len(IMU_T_rounded))\n",
    "print(c2+c3)"
   ]
  },
  {
   "cell_type": "code",
   "execution_count": 43,
   "id": "61c6c7f0",
   "metadata": {},
   "outputs": [
    {
     "data": {
      "text/plain": [
       "0.5681"
      ]
     },
     "execution_count": 43,
     "metadata": {},
     "output_type": "execute_result"
    }
   ],
   "source": [
    "Sensor_time[30]"
   ]
  },
  {
   "cell_type": "code",
   "execution_count": 44,
   "id": "5d5ef217",
   "metadata": {},
   "outputs": [
    {
     "name": "stdout",
     "output_type": "stream",
     "text": [
      "5681\n",
      "55455\n",
      "55455\n"
     ]
    }
   ],
   "source": [
    "Updated_sensor_time = []\n",
    "for value in Sensor_time:\n",
    "    Updated_sensor_time.append(int(value*10000))\n",
    "print(Updated_sensor_time[30])\n",
    "print(len(Updated_sensor_time))\n",
    "print(len(Sensor_time))"
   ]
  },
  {
   "cell_type": "code",
   "execution_count": 45,
   "id": "43a9d1ca",
   "metadata": {},
   "outputs": [
    {
     "name": "stdout",
     "output_type": "stream",
     "text": [
      "55455\n",
      "3806703 19985\n",
      "3806703 19986\n",
      "3806704 19986\n",
      "4063793 21445\n",
      "4063793 21446\n",
      "4063794 21446\n",
      "4176780 22085\n",
      "4176780 22086\n",
      "4176781 22086\n",
      "5137696 27465\n",
      "5137696 27466\n",
      "5137697 27466\n",
      "5384607 28801\n",
      "5384607 28802\n",
      "5384608 28802\n",
      "5471790 29273\n",
      "5471790 29274\n",
      "5471791 29274\n",
      "6321790 33902\n",
      "6321790 33903\n",
      "6321791 33903\n",
      "6384503 34244\n",
      "6384503 34245\n",
      "6384504 34245\n",
      "6825789 36702\n",
      "6825789 36703\n",
      "6825790 36703\n",
      "6841790 36796\n",
      "6841790 36797\n",
      "6841791 36797\n",
      "7631609 41261\n",
      "7631609 41262\n",
      "7631610 41262\n",
      "7800368 42233\n",
      "7800368 42234\n",
      "7800369 42234\n",
      "7912030 42876\n",
      "7912030 42877\n",
      "7912031 42877\n",
      "end\n",
      "10259784 55453\n",
      "10259784 55454\n",
      "10259785 55454\n",
      "55455\n",
      "55454\n",
      "55455\n",
      "10259785 10259785 10259785\n",
      "0\n"
     ]
    }
   ],
   "source": [
    "\n",
    "\n",
    "print(len(Updated_sensor_time))\n",
    "for index, value in enumerate(Updated_sensor_time):\n",
    "    if index == len(Updated_sensor_time)-1:\n",
    "        index = index -1\n",
    "        print(\"end\")\n",
    "    if value == Updated_sensor_time[index+1]:\n",
    "        print(value, index)\n",
    "        print(Updated_sensor_time[index+1], index + 1)\n",
    "        Updated_sensor_time[index + 1] = value + 1\n",
    "        print(Updated_sensor_time[index + 1], index + 1)\n",
    "        \n",
    "print(len(Updated_sensor_time))\n",
    "\n",
    "\n",
    "T_traj = Updated_sensor_time[-1]-Updated_sensor_time[0]\n",
    "count = 0\n",
    "index = 0\n",
    "yes = 0\n",
    "\n",
    "\n",
    "for t in range(0, T_traj):\n",
    "    if t == Updated_sensor_time[index]:\n",
    "        count += 1\n",
    "        index += 1\n",
    "        \n",
    "\n",
    "print(count)\n",
    "print(len(Updated_sensor_time))\n",
    "print(Updated_sensor_time[-1], T_traj, max(Updated_sensor_time))\n",
    "\n",
    "print(yes)"
   ]
  },
  {
   "cell_type": "code",
   "execution_count": 20,
   "id": "5e6086b9",
   "metadata": {},
   "outputs": [
    {
     "name": "stdout",
     "output_type": "stream",
     "text": [
      "10259784 10259784.0\n"
     ]
    }
   ],
   "source": [
    "total_time = Updated_sensor_time[-1]-Updated_sensor_time[0]\n",
    "total_time_1 = Sensor_time[-1]-Sensor_time[0]\n",
    "print(total_time, total_time_1/0.0001)"
   ]
  },
  {
   "cell_type": "code",
   "execution_count": 12,
   "id": "51d3a1c7",
   "metadata": {},
   "outputs": [
    {
     "data": {
      "text/plain": [
       "0.5681"
      ]
     },
     "execution_count": 12,
     "metadata": {},
     "output_type": "execute_result"
    }
   ],
   "source": [
    "Updated_Sensor_time = Sensor_time*1000\n",
    "Updated_Sensor_time[30]"
   ]
  },
  {
   "cell_type": "code",
   "execution_count": null,
   "id": "5dc5a0fe",
   "metadata": {},
   "outputs": [],
   "source": []
  },
  {
   "cell_type": "code",
   "execution_count": null,
   "id": "a418ad05",
   "metadata": {},
   "outputs": [],
   "source": [
    "time = Sensor_time[-1]-Sensor_time[0]\n",
    "print(\"Sensor_times: \", Sensor_time[0], Sensor_time[-1], Sensor_time[1])\n",
    "T = time/0.0001\n",
    "print(T)\n",
    "T = int(T)\n",
    "count = 0\n",
    "index = 0\n",
    "for t in range(0, T):\n",
    "    ti = t*0.0001\n",
    "    print(t)\n",
    "    if 0.03 == ti:\n",
    "        print(\"index\", index)\n",
    "        print(\"t\", t)\n",
    "        index += 1\n",
    "    if ti == Sensor_time[index]:\n",
    "        print(\"Time detected:\" ,Sensor_time[index])\n",
    "        print(ti)\n",
    "        index += 1\n",
    "        count += 1\n",
    "print(count)\n",
    "print(len(Sensor_time))"
   ]
  },
  {
   "cell_type": "code",
   "execution_count": null,
   "id": "5f3761bb",
   "metadata": {},
   "outputs": [],
   "source": [
    " 300*0.0001"
   ]
  },
  {
   "cell_type": "code",
   "execution_count": null,
   "id": "e7460a8c",
   "metadata": {},
   "outputs": [],
   "source": [
    "time_GT = []\n",
    "for i in range(0, len(gtTime)-1):\n",
    "    diff = gtTime[i+1]-gtTime[i]\n",
    "    time_GT.append(diff)\n",
    "\n",
    "print(\"size original, size differences: \", len(gtTime), len(time_GT))\n",
    "print(min(time_GT), max(time_GT))\n",
    "print(sum(time_GT)/len(time_GT))\n",
    "print(gtTime[len(gtTime)-1] - gtTime[0])"
   ]
  },
  {
   "cell_type": "code",
   "execution_count": null,
   "id": "7011797f",
   "metadata": {},
   "outputs": [],
   "source": [
    "GT_Time_rounded = [round(delta_t, 4) for delta_t in time_GT]  # We round everything to 10^-4 accuracy, so 10 microseconds"
   ]
  },
  {
   "cell_type": "code",
   "execution_count": null,
   "id": "e614bda2",
   "metadata": {},
   "outputs": [],
   "source": [
    "print(round_to_tenths[0:10])\n",
    "print(time_GT[0:10])"
   ]
  },
  {
   "cell_type": "code",
   "execution_count": null,
   "id": "a0e4cc4c",
   "metadata": {},
   "outputs": [],
   "source": [
    "torch.zeros(2)"
   ]
  },
  {
   "cell_type": "code",
   "execution_count": null,
   "id": "5d39bbcb",
   "metadata": {},
   "outputs": [],
   "source": [
    "time_GPSCG = []\n",
    "for i in range(0, len(gpsCGTime)-1):\n",
    "    diff = gpsCGTime[i+1]-gpsCGTime[i]\n",
    "    time_GPSCG.append(diff)\n",
    "\n",
    "print(\"size original, size differences: \", len(gpsCGTime), len(time_GPSCG))\n",
    "print(min(time_GPSCG), max(time_GPSCG))\n",
    "print(sum(time_GPSCG)/len(time_GPSCG))\n",
    "print(gpsCGTime[len(gpsCGTime)-1] - gpsCGTime[0])"
   ]
  },
  {
   "cell_type": "code",
   "execution_count": null,
   "id": "3fd8b66c",
   "metadata": {},
   "outputs": [],
   "source": [
    "t1 = time_GPSCG.index(min(time_GPSCG))\n",
    "gpsCGTime[t1+1]-gpsCGTime[t1]"
   ]
  },
  {
   "cell_type": "code",
   "execution_count": null,
   "id": "12d5334a",
   "metadata": {},
   "outputs": [],
   "source": [
    "print(gtTime[0])"
   ]
  },
  {
   "cell_type": "code",
   "execution_count": null,
   "id": "43785abd",
   "metadata": {},
   "outputs": [],
   "source": [
    "print(gpsCGTime[0])"
   ]
  },
  {
   "cell_type": "code",
   "execution_count": null,
   "id": "5931d439",
   "metadata": {},
   "outputs": [],
   "source": []
  }
 ],
 "metadata": {
  "kernelspec": {
   "display_name": "Python 3",
   "language": "python",
   "name": "python3"
  },
  "language_info": {
   "codemirror_mode": {
    "name": "ipython",
    "version": 3
   },
   "file_extension": ".py",
   "mimetype": "text/x-python",
   "name": "python",
   "nbconvert_exporter": "python",
   "pygments_lexer": "ipython3",
   "version": "3.8.8"
  }
 },
 "nbformat": 4,
 "nbformat_minor": 5
}
